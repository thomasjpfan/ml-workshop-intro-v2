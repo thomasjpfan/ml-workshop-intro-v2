{
 "cells": [
  {
   "attachments": {},
   "cell_type": "markdown",
   "id": "34b0d415-07e9-49a5-a1d1-81c6395378da",
   "metadata": {
    "tags": []
   },
   "source": [
    "# Supervised learning with scikit-learn\n",
    "\n",
    "In this notebook, we review scikit-learn's API for training a model.\n",
    "\n",
    "<a href=\"https://colab.research.google.com/github/thomasjpfan/ml-workshop-intro-v2/blob/main/notebooks/02-supervised-learning.ipynb\"><img src=\"https://colab.research.google.com/assets/colab-badge.svg\" alt=\"Open in Colab\" title=\"Open and Execute in Google Colaboratory\"></a>"
   ]
  },
  {
   "cell_type": "code",
   "execution_count": null,
   "id": "35766561-49ba-48ff-9689-18c3e29f0bda",
   "metadata": {
    "tags": []
   },
   "outputs": [],
   "source": [
    "# Install dependencies for google colab\n",
    "import sys\n",
    "IN_COLAB = 'google.colab' in sys.modules\n",
    "if IN_COLAB:\n",
    "    %pip install -r https://raw.githubusercontent.com/thomasjpfan/ml-workshop-intro-v2/main/requirements.txt"
   ]
  },
  {
   "cell_type": "code",
   "execution_count": null,
   "id": "3070c5b0-9f15-4f5e-b097-c4a5816cc5c7",
   "metadata": {
    "tags": []
   },
   "outputs": [],
   "source": [
    "import sklearn\n",
    "assert sklearn.__version__.startswith(\"1.2\"), \"Please install scikit-learn 1.2\""
   ]
  },
  {
   "attachments": {},
   "cell_type": "markdown",
   "id": "1b519643-2a66-4de1-86f6-7103976aab99",
   "metadata": {},
   "source": [
    "## Loading Data"
   ]
  },
  {
   "cell_type": "code",
   "execution_count": null,
   "id": "ab85e275-decc-4ffe-96f7-4660cabadcb1",
   "metadata": {
    "tags": []
   },
   "outputs": [],
   "source": [
    "from sklearn.datasets import fetch_openml\n",
    "\n",
    "blood = fetch_openml('blood-transfusion-service-center', as_frame=True, parser=\"pandas\")"
   ]
  },
  {
   "cell_type": "code",
   "execution_count": null,
   "id": "d23a1c82-f4ba-4004-b079-0bd605c9a99f",
   "metadata": {
    "tags": []
   },
   "outputs": [],
   "source": [
    "blood.frame.head()"
   ]
  },
  {
   "cell_type": "code",
   "execution_count": null,
   "id": "11c41956-b0c4-4cd2-8b3e-a71ab1240096",
   "metadata": {
    "tags": []
   },
   "outputs": [],
   "source": [
    "X, y = blood.data, blood.target"
   ]
  },
  {
   "cell_type": "code",
   "execution_count": null,
   "id": "3485b07d-2dca-4ad5-8b4a-189c82651808",
   "metadata": {
    "tags": []
   },
   "outputs": [],
   "source": [
    "X.head()"
   ]
  },
  {
   "cell_type": "code",
   "execution_count": null,
   "id": "e4149bed-d36d-4438-bf3a-4fbca3f63483",
   "metadata": {
    "tags": []
   },
   "outputs": [],
   "source": [
    "y.head()"
   ]
  },
  {
   "cell_type": "code",
   "execution_count": null,
   "id": "3505dbf6-cc5c-405d-b504-fcba10ec9f1a",
   "metadata": {
    "tags": []
   },
   "outputs": [],
   "source": [
    "y.value_counts(normalize=True)"
   ]
  },
  {
   "attachments": {},
   "cell_type": "markdown",
   "id": "d2977288-3cac-44ca-b7f8-eedde2f51e5e",
   "metadata": {},
   "source": [
    "## Split Data"
   ]
  },
  {
   "cell_type": "code",
   "execution_count": null,
   "id": "30d5238f-c89d-4919-8852-56d236188b93",
   "metadata": {
    "tags": []
   },
   "outputs": [],
   "source": [
    "from sklearn.model_selection import train_test_split\n",
    "\n",
    "X_train, X_test, y_train, y_test = train_test_split(\n",
    "    X, y, random_state=0\n",
    ")"
   ]
  },
  {
   "cell_type": "code",
   "execution_count": null,
   "id": "e963ecd4-b957-4e2a-863f-33e49b349a2c",
   "metadata": {
    "tags": []
   },
   "outputs": [],
   "source": [
    "X_train.head()"
   ]
  },
  {
   "cell_type": "code",
   "execution_count": null,
   "id": "439f3b8a-b937-49c0-bb4c-62ecc64ed411",
   "metadata": {
    "tags": []
   },
   "outputs": [],
   "source": [
    "y_train.value_counts(normalize=True)"
   ]
  },
  {
   "cell_type": "code",
   "execution_count": null,
   "id": "d7368923-e99e-4ddd-9607-124b56d395af",
   "metadata": {
    "tags": []
   },
   "outputs": [],
   "source": [
    "y_test.value_counts(normalize=True)"
   ]
  },
  {
   "attachments": {},
   "cell_type": "markdown",
   "id": "f2a732fa-c63d-45b6-85ea-bc2e5ce0aaff",
   "metadata": {},
   "source": [
    "## Stratify!"
   ]
  },
  {
   "cell_type": "code",
   "execution_count": null,
   "id": "09e420fe-2a12-4f28-b8e3-52d2515d1db8",
   "metadata": {
    "tags": []
   },
   "outputs": [],
   "source": [
    "X_train, X_test, y_train, y_test = train_test_split(\n",
    "    X, y, random_state=0, stratify=y\n",
    ")"
   ]
  },
  {
   "cell_type": "code",
   "execution_count": null,
   "id": "729c033b-d703-4c27-874b-0542d535fe7d",
   "metadata": {
    "tags": []
   },
   "outputs": [],
   "source": [
    "y_train.value_counts(normalize=True)"
   ]
  },
  {
   "cell_type": "code",
   "execution_count": null,
   "id": "ee03ca11-eab3-4a4c-9c01-a4142c55021d",
   "metadata": {
    "tags": []
   },
   "outputs": [],
   "source": [
    "y_test.value_counts(normalize=True)"
   ]
  },
  {
   "attachments": {},
   "cell_type": "markdown",
   "id": "ef35b661-acdb-4d04-92ec-6e7037f01d41",
   "metadata": {},
   "source": [
    "# Scikit-learn API"
   ]
  },
  {
   "cell_type": "code",
   "execution_count": null,
   "id": "091bedd4-b560-403d-a829-6264e17cce5c",
   "metadata": {
    "tags": []
   },
   "outputs": [],
   "source": [
    "from sklearn.linear_model import Perceptron"
   ]
  },
  {
   "cell_type": "code",
   "execution_count": null,
   "id": "b9bfac74-19c4-4136-bb91-9b9eb146421d",
   "metadata": {
    "tags": []
   },
   "outputs": [],
   "source": [
    "percept = Perceptron()"
   ]
  },
  {
   "cell_type": "code",
   "execution_count": null,
   "id": "4d0f4df0-bc18-48a7-a3ef-93aff3e4fc29",
   "metadata": {
    "tags": []
   },
   "outputs": [],
   "source": [
    "percept.fit(X_train, y_train)"
   ]
  },
  {
   "cell_type": "code",
   "execution_count": null,
   "id": "6a31bf48-a0ed-457c-a5bf-2cc48ee4e9a9",
   "metadata": {
    "tags": []
   },
   "outputs": [],
   "source": [
    "percept.fit(X_train, y_train)"
   ]
  },
  {
   "cell_type": "code",
   "execution_count": null,
   "id": "fff2cb57-2845-46ef-814f-f1b6b718fd5b",
   "metadata": {
    "tags": []
   },
   "outputs": [],
   "source": [
    "percept.predict(X_train)"
   ]
  },
  {
   "cell_type": "code",
   "execution_count": null,
   "id": "8a69f944-3ead-483d-b037-90dc3987c104",
   "metadata": {
    "tags": []
   },
   "outputs": [],
   "source": [
    "percept.score(X_test, y_test)"
   ]
  },
  {
   "attachments": {},
   "cell_type": "markdown",
   "id": "10907da1-23fc-4752-81b3-da77b3950e86",
   "metadata": {},
   "source": [
    "## Another Estimator"
   ]
  },
  {
   "cell_type": "code",
   "execution_count": null,
   "id": "8274a1d3-6206-4dd8-a3eb-e047194b162d",
   "metadata": {
    "tags": []
   },
   "outputs": [],
   "source": [
    "from sklearn.ensemble import RandomForestClassifier"
   ]
  },
  {
   "cell_type": "code",
   "execution_count": null,
   "id": "31a88fc9-afff-4ca4-85b7-f70e5b114ecf",
   "metadata": {
    "tags": []
   },
   "outputs": [],
   "source": [
    "rf = RandomForestClassifier(random_state=0)"
   ]
  },
  {
   "cell_type": "code",
   "execution_count": null,
   "id": "fcd70fa9-e905-4044-bb06-6035e7a35c8d",
   "metadata": {
    "tags": []
   },
   "outputs": [],
   "source": [
    "rf.fit(X_train, y_train)"
   ]
  },
  {
   "cell_type": "code",
   "execution_count": null,
   "id": "f83ea9ba-3439-4dd0-b54c-100423a51568",
   "metadata": {
    "tags": []
   },
   "outputs": [],
   "source": [
    "rf.score(X_test, y_test)"
   ]
  },
  {
   "attachments": {},
   "cell_type": "markdown",
   "id": "cf86faad-96dc-4976-a30a-1cc7edd4d03e",
   "metadata": {},
   "source": [
    "## Are these results any good?"
   ]
  },
  {
   "cell_type": "code",
   "execution_count": null,
   "id": "27ca4909-81d7-4a92-80c6-7480902637cd",
   "metadata": {
    "tags": []
   },
   "outputs": [],
   "source": [
    "from sklearn.dummy import DummyClassifier"
   ]
  },
  {
   "cell_type": "code",
   "execution_count": null,
   "id": "4f6eac75-01fc-4784-8b32-c69e6f89a5c6",
   "metadata": {
    "tags": []
   },
   "outputs": [],
   "source": [
    "dc = DummyClassifier()"
   ]
  },
  {
   "cell_type": "code",
   "execution_count": null,
   "id": "6940d752-5cba-4a5c-b912-728d504488a3",
   "metadata": {
    "tags": []
   },
   "outputs": [],
   "source": [
    "dc.fit(X_train, y_train)"
   ]
  },
  {
   "cell_type": "code",
   "execution_count": null,
   "id": "157899b1-ff7a-4ba9-ac53-9d28a050bb48",
   "metadata": {
    "tags": []
   },
   "outputs": [],
   "source": [
    "dc.predict(X_train)"
   ]
  },
  {
   "cell_type": "code",
   "execution_count": null,
   "id": "747a6131-62ff-4dac-8152-67f10cd77003",
   "metadata": {
    "tags": []
   },
   "outputs": [],
   "source": [
    "dc.score(X_test, y_test)"
   ]
  },
  {
   "attachments": {},
   "cell_type": "markdown",
   "id": "63315b01-6f48-48bf-b145-8ce6520e37b0",
   "metadata": {},
   "source": [
    "## Exercise 1 \n",
    "\n",
    "1. Import and evaluate the performance of `LogisticRegression` on the above dataset\n",
    "2. How does the test performance compare to the ones we already looked at?"
   ]
  },
  {
   "cell_type": "code",
   "execution_count": null,
   "id": "a3051db4-dfe8-4556-b2df-63dbd7fab8fe",
   "metadata": {
    "tags": []
   },
   "outputs": [],
   "source": [
    "from sklearn.linear_model import LogisticRegression"
   ]
  },
  {
   "cell_type": "code",
   "execution_count": null,
   "id": "59fc8a45-24bc-4909-8dc4-35b6fac46d42",
   "metadata": {},
   "outputs": [],
   "source": []
  },
  {
   "attachments": {},
   "cell_type": "markdown",
   "id": "6ddb1806-e660-4520-8639-e692a8257a4f",
   "metadata": {},
   "source": [
    "**If you are running locally**, you can uncomment the following cell to load the solution into the cell. On **Google Colab**, [see solution here](https://github.com/thomasjpfan/ml-workshop-intro-v2/blob/main/notebooks/solutions/02-ex1-solution.py). "
   ]
  },
  {
   "cell_type": "code",
   "execution_count": null,
   "id": "107664b8-9773-42c7-8f31-86b4ad7ce9db",
   "metadata": {
    "tags": []
   },
   "outputs": [],
   "source": [
    "# %load solutions/02-ex1-solution.py"
   ]
  },
  {
   "attachments": {},
   "cell_type": "markdown",
   "id": "2fb5d81b-a8b6-412d-8131-ad9a30cf0041",
   "metadata": {
    "tags": []
   },
   "source": [
    "## Exercise 2\n",
    "\n",
    "1. Load the wine dataset from `sklearn.datasets` module using the `load_wine` dataset with `as_frame=True` and `return_X_y=True`.\n",
    "2. Split it into a training and test set using `train_test_split`. \n",
    "    - **Hint**: Use `stratify` and set `random_state=42`\n",
    "3. Train `KNeighborsClassifer`, `RandomForestClassifier` and `LogisticRegression` on the wine dataset.\n",
    "    - **You can ignore warnings here. We will cover it in the next section**\n",
    "4. How do they perform on the test set?"
   ]
  },
  {
   "cell_type": "code",
   "execution_count": null,
   "id": "78378e7b-4853-46cb-881a-e47c8dbfa5b9",
   "metadata": {
    "tags": []
   },
   "outputs": [],
   "source": [
    "from sklearn.datasets import load_wine\n",
    "from sklearn.neighbors import KNeighborsClassifier\n",
    "from sklearn.ensemble import RandomForestClassifier\n",
    "from sklearn.linear_model import LogisticRegression"
   ]
  },
  {
   "cell_type": "code",
   "execution_count": null,
   "id": "a494c987-31f5-4b94-aac8-2e29c5e95c92",
   "metadata": {},
   "outputs": [],
   "source": []
  },
  {
   "attachments": {},
   "cell_type": "markdown",
   "id": "24fff765-1694-42e7-a23a-d380f38a1f0d",
   "metadata": {
    "jp-MarkdownHeadingCollapsed": true,
    "tags": []
   },
   "source": [
    "**If you are running locally**, you can uncomment the following cell to load the solution into the cell. On **Google Colab**, [see solution here](https://github.com/thomasjpfan/ml-workshop-intro-v2/blob/main/notebooks/solutions/02-ex2-solution.py). "
   ]
  },
  {
   "cell_type": "code",
   "execution_count": null,
   "id": "eba7362f-66eb-4775-8ea2-d6f9e12db0b8",
   "metadata": {
    "tags": []
   },
   "outputs": [],
   "source": [
    "# %load solutions/02-ex2-solution.py"
   ]
  }
 ],
 "metadata": {
  "kernelspec": {
   "display_name": "Python 3 (ipykernel)",
   "language": "python",
   "name": "python3"
  },
  "language_info": {
   "codemirror_mode": {
    "name": "ipython",
    "version": 3
   },
   "file_extension": ".py",
   "mimetype": "text/x-python",
   "name": "python",
   "nbconvert_exporter": "python",
   "pygments_lexer": "ipython3",
   "version": "3.10.10"
  }
 },
 "nbformat": 4,
 "nbformat_minor": 5
}
