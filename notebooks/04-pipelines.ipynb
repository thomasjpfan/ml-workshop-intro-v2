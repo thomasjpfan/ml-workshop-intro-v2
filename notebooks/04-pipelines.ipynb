{
 "cells": [
  {
   "cell_type": "markdown",
   "id": "b11176ee-1bbd-49f2-bbb4-4e339628e2ef",
   "metadata": {
    "tags": []
   },
   "source": [
    "# Pipelines\n",
    "\n",
    "In this notebook, we will learn about pipelines in scikit-learn.\n",
    "\n",
    "<a href=\"https://colab.research.google.com/github/thomasjpfan/ml-workshop-intro-v2/blob/main/notebooks/04-pipelines.ipynb\"><img src=\"https://colab.research.google.com/assets/colab-badge.svg\" alt=\"Open in Colab\" title=\"Open and Execute in Google Colaboratory\"></a>"
   ]
  },
  {
   "cell_type": "code",
   "execution_count": null,
   "id": "304a4419-1dee-4305-b496-be292c88ab6d",
   "metadata": {},
   "outputs": [],
   "source": [
    "# Install dependencies for google colab\n",
    "import sys\n",
    "IN_COLAB = 'google.colab' in sys.modules\n",
    "if IN_COLAB:\n",
    "    %pip install -r https://raw.githubusercontent.com/thomasjpfan/ml-workshop-intro-v2/main/requirements.txt"
   ]
  },
  {
   "cell_type": "code",
   "execution_count": null,
   "id": "6e513187-d080-47c0-b8cd-eb9562903c67",
   "metadata": {
    "tags": []
   },
   "outputs": [],
   "source": [
    "import sklearn\n",
    "assert sklearn.__version__.startswith(\"1.2\"), \"Please install scikit-learn 1.2\""
   ]
  },
  {
   "cell_type": "markdown",
   "id": "a54a7ac5-40a1-4341-bae1-6aab6ee0385e",
   "metadata": {},
   "source": [
    "### Load data from previous notebook"
   ]
  },
  {
   "cell_type": "code",
   "execution_count": null,
   "id": "fa5c12ab-e264-4a05-a623-d07672a44ab7",
   "metadata": {
    "tags": []
   },
   "outputs": [],
   "source": [
    "from sklearn.datasets import fetch_california_housing\n",
    "from sklearn.model_selection import train_test_split\n",
    "\n",
    "housing = fetch_california_housing(as_frame=True)\n",
    "X, y = housing.data, housing.target\n",
    "\n",
    "X_train, X_test, y_train, y_test = train_test_split(X, y, random_state=0)"
   ]
  },
  {
   "cell_type": "markdown",
   "id": "d8df7013-cb31-4978-8c22-c72725e3c56f",
   "metadata": {},
   "source": [
    "## Make pipeline!"
   ]
  },
  {
   "cell_type": "code",
   "execution_count": null,
   "id": "7227d0ab-1699-4e48-9887-08febdff4a6b",
   "metadata": {
    "tags": []
   },
   "outputs": [],
   "source": [
    "from sklearn.pipeline import make_pipeline\n",
    "from sklearn.preprocessing import StandardScaler\n",
    "from sklearn.neighbors import KNeighborsRegressor\n",
    "\n",
    "knr = make_pipeline(\n",
    "    StandardScaler(), KNeighborsRegressor()\n",
    ")\n",
    "knr.fit(X_train, y_train)"
   ]
  },
  {
   "cell_type": "code",
   "execution_count": null,
   "id": "99c70ccd-cbce-470d-a28e-9bfeb93b320e",
   "metadata": {
    "tags": []
   },
   "outputs": [],
   "source": [
    "knr.score(X_test, y_test)"
   ]
  },
  {
   "cell_type": "code",
   "execution_count": null,
   "id": "c23189fd-c2bb-4d01-a98f-f7778b9d5452",
   "metadata": {
    "tags": []
   },
   "outputs": [],
   "source": [
    "from sklearn.preprocessing import SplineTransformer\n",
    "\n",
    "knr_spline = make_pipeline(\n",
    "    StandardScaler(),\n",
    "    SplineTransformer(),\n",
    "    KNeighborsRegressor()\n",
    ")\n",
    "knr_spline.fit(X_train, y_train)"
   ]
  },
  {
   "cell_type": "code",
   "execution_count": null,
   "id": "5afd64e7-7465-422c-96c2-6c40033b14dd",
   "metadata": {
    "tags": []
   },
   "outputs": [],
   "source": [
    "knr_spline.score(X_test, y_test)"
   ]
  },
  {
   "cell_type": "markdown",
   "id": "03e3786a-7f3c-4f27-b717-90218a374d4d",
   "metadata": {},
   "source": [
    "## Exercise 1\n",
    "\n",
    "1. Load the cancer dataset from `sklearn.datasets` using the `load_breast_cancer` function.\n",
    "2. Is this is a classification or regression problem?\n",
    "3. Split the data into training and test dataset. (Use `random_state=0`)\n",
    "4. Create a pipeline with a `StandardScaler` and a `LogisticRegression`.\n",
    "5. Evaluate the performance of this pipeline on the test dataset.\n",
    "6. **Extra**: Add a `PolynomialFeatures` to the pipeline after the `StandardScalar` and see if the performance improves."
   ]
  },
  {
   "cell_type": "code",
   "execution_count": null,
   "id": "eb1c2db2-f58e-4ba5-808e-df3c98bd9fe5",
   "metadata": {
    "tags": []
   },
   "outputs": [],
   "source": [
    "from sklearn.datasets import load_breast_cancer\n",
    "from sklearn.linear_model import LogisticRegression\n",
    "from sklearn.preprocessing import PolynomialFeatures"
   ]
  },
  {
   "cell_type": "code",
   "execution_count": null,
   "id": "2fad9050-73ce-44a4-8dbd-b9f353574559",
   "metadata": {},
   "outputs": [],
   "source": []
  },
  {
   "cell_type": "markdown",
   "id": "6567126e-ca01-45c1-bda7-ccd6d2d1490c",
   "metadata": {},
   "source": [
    "**If you are running locally**, you can uncomment the following cell to load the solution into the cell. On **Google Colab**, [see solution here](https://github.com/thomasjpfan/ml-workshop-intro-v2/blob/master/notebooks/solutions/04-ex1-solution.py). "
   ]
  },
  {
   "cell_type": "code",
   "execution_count": null,
   "id": "2841ca32-a502-49ba-8024-09f61acedc34",
   "metadata": {},
   "outputs": [],
   "source": [
    "# %load solutions/04-ex1-solution.py"
   ]
  }
 ],
 "metadata": {
  "kernelspec": {
   "display_name": "Python 3 (ipykernel)",
   "language": "python",
   "name": "python3"
  },
  "language_info": {
   "codemirror_mode": {
    "name": "ipython",
    "version": 3
   },
   "file_extension": ".py",
   "mimetype": "text/x-python",
   "name": "python",
   "nbconvert_exporter": "python",
   "pygments_lexer": "ipython3",
   "version": "3.10.10"
  }
 },
 "nbformat": 4,
 "nbformat_minor": 5
}
