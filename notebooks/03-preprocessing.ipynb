{
 "cells": [
  {
   "cell_type": "markdown",
   "id": "0f3cf193-4df5-4e66-b287-86346a66a29d",
   "metadata": {},
   "source": [
    "# Preprocessing\n",
    "\n",
    "In this notebook, we review preprocessing in scikit-learn.\n",
    "\n",
    "<a href=\"https://colab.research.google.com/github/thomasjpfan/ml-workshop-intro-v2/blob/main/notebooks/03-preprocessing.ipynb\"><img src=\"https://colab.research.google.com/assets/colab-badge.svg\" alt=\"Open in Colab\" title=\"Open and Execute in Google Colaboratory\"></a>"
   ]
  },
  {
   "cell_type": "code",
   "execution_count": null,
   "id": "ab92f4cf-46ec-48b8-babd-15bb6c42f96e",
   "metadata": {
    "tags": []
   },
   "outputs": [],
   "source": [
    "# Install dependencies for google colab\n",
    "import sys\n",
    "IN_COLAB = 'google.colab' in sys.modules\n",
    "if IN_COLAB:\n",
    "    %pip install -r https://raw.githubusercontent.com/thomasjpfan/ml-workshop-intro-v2/main/requirements.txt"
   ]
  },
  {
   "cell_type": "code",
   "execution_count": null,
   "id": "b05ce0aa-95e6-48b3-9ee2-ee68ae43de1b",
   "metadata": {
    "tags": []
   },
   "outputs": [],
   "source": [
    "import sklearn\n",
    "assert sklearn.__version__.startswith(\"1.2\"), \"Please install scikit-learn 1.2\""
   ]
  },
  {
   "cell_type": "code",
   "execution_count": null,
   "id": "21ab1adf-7034-442f-bcd6-2127e10c9fb4",
   "metadata": {
    "tags": []
   },
   "outputs": [],
   "source": [
    "import seaborn as sns\n",
    "import matplotlib.pyplot as plt\n",
    "plt.rcParams['figure.constrained_layout.use'] = True\n",
    "sns.set_theme(context=\"talk\", font_scale=1.2)"
   ]
  },
  {
   "cell_type": "markdown",
   "id": "99f6bc72-6abb-44f4-aeeb-01bac791183a",
   "metadata": {},
   "source": [
    "## Loading Housing Dataset"
   ]
  },
  {
   "cell_type": "code",
   "execution_count": null,
   "id": "a46a59e5-12c2-415c-a68f-4fa945ec9f61",
   "metadata": {
    "tags": []
   },
   "outputs": [],
   "source": [
    "import pandas as pd\n",
    "\n",
    "if IN_COLAB:\n",
    "    HOUSING_PATH = \"\"\n",
    "else:\n",
    "    HOUSING_PATH = \"data/housing.csv\"\n",
    "    \n",
    "housing_df = pd.read_csv(HOUSING_PATH)\n",
    "X = housing_df.drop(\"MEDV\", axis=\"columns\")\n",
    "y = housing_df[\"MEDV\"]"
   ]
  },
  {
   "cell_type": "code",
   "execution_count": null,
   "id": "10c8fa4b-c413-4ed3-81a2-cf0da9331d74",
   "metadata": {
    "tags": []
   },
   "outputs": [],
   "source": [
    "feature_names = X.columns"
   ]
  },
  {
   "cell_type": "code",
   "execution_count": null,
   "id": "342d4ee5-3160-4c56-90ad-58d6ecf130b3",
   "metadata": {
    "tags": []
   },
   "outputs": [],
   "source": [
    "import matplotlib.pyplot as plt\n",
    "\n",
    "fig, axes = plt.subplots(2, 4, figsize=(24, 9))\n",
    "\n",
    "for name, ax in zip(feature_names, axes.ravel()):\n",
    "    sns.scatterplot(x=name, y='MEDV', ax=ax, data=housing_df)"
   ]
  },
  {
   "cell_type": "code",
   "execution_count": null,
   "id": "2bd70f88-d72f-4da4-a9dd-1cd229c9991b",
   "metadata": {
    "tags": []
   },
   "outputs": [],
   "source": [
    "X.plot(kind='box', rot=90);"
   ]
  },
  {
   "cell_type": "markdown",
   "id": "b9494c8c-425d-412c-84a6-9f4e022ede24",
   "metadata": {},
   "source": [
    "## Model without scaling"
   ]
  },
  {
   "cell_type": "code",
   "execution_count": null,
   "id": "2ab98ce9-c0d0-4a38-aca3-6ccbb1792346",
   "metadata": {
    "tags": []
   },
   "outputs": [],
   "source": [
    "from sklearn.model_selection import train_test_split\n",
    "\n",
    "X_train, X_test, y_train, y_test = train_test_split(X, y, random_state=42)"
   ]
  },
  {
   "cell_type": "code",
   "execution_count": null,
   "id": "7b0f26ea-917e-41a5-8c23-b06213d21c09",
   "metadata": {
    "tags": []
   },
   "outputs": [],
   "source": [
    "from sklearn.neighbors import KNeighborsRegressor\n",
    "\n",
    "knr = KNeighborsRegressor().fit(X_train, y_train)"
   ]
  },
  {
   "cell_type": "code",
   "execution_count": null,
   "id": "99693e4d-6447-4353-b610-a66d4915461e",
   "metadata": {
    "tags": []
   },
   "outputs": [],
   "source": [
    "knr.score(X_test, y_test)"
   ]
  },
  {
   "cell_type": "markdown",
   "id": "f8ae3b05-3f4d-495d-b39e-97b1a038af79",
   "metadata": {},
   "source": [
    "## Model with scaling"
   ]
  },
  {
   "cell_type": "code",
   "execution_count": null,
   "id": "a3b7ae56-5111-4958-913f-4aaf8d44387d",
   "metadata": {
    "tags": []
   },
   "outputs": [],
   "source": [
    "from sklearn.preprocessing import StandardScaler\n",
    "\n",
    "scaler = StandardScaler()\n",
    "X_train_scaled = scaler.fit_transform(X_train)"
   ]
  },
  {
   "cell_type": "code",
   "execution_count": null,
   "id": "7ae1e380-671b-48b2-93c8-94b9cea384ec",
   "metadata": {
    "tags": []
   },
   "outputs": [],
   "source": [
    "X_train_scaled"
   ]
  },
  {
   "cell_type": "markdown",
   "id": "c88fe296-e9ce-4020-bd5b-92cd4eb79a1d",
   "metadata": {},
   "source": [
    "### Pandas output!"
   ]
  },
  {
   "cell_type": "code",
   "execution_count": null,
   "id": "a865f779-f473-43fd-9fc7-edaf6a8739c9",
   "metadata": {
    "tags": []
   },
   "outputs": [],
   "source": [
    "scaler = StandardScaler()\n",
    "scaler.set_output(transform=\"pandas\")\n",
    "X_train_scaled = scaler.fit_transform(X_train)"
   ]
  },
  {
   "cell_type": "code",
   "execution_count": null,
   "id": "bbedf251-8789-41bd-a496-af7193297d73",
   "metadata": {
    "tags": []
   },
   "outputs": [],
   "source": [
    "X_train_scaled.plot(kind='box', rot=45);"
   ]
  },
  {
   "cell_type": "markdown",
   "id": "a9e7fa4d-710f-4c3f-bb27-7c4651630a4f",
   "metadata": {},
   "source": [
    "## Train model on scaled data"
   ]
  },
  {
   "cell_type": "code",
   "execution_count": null,
   "id": "2fdf960e-4914-4eae-9c6e-402beabb2b0f",
   "metadata": {
    "tags": []
   },
   "outputs": [],
   "source": [
    "knr = KNeighborsRegressor()\n",
    "knr.fit(X_train_scaled, y_train)"
   ]
  },
  {
   "cell_type": "code",
   "execution_count": null,
   "id": "90afb901-8a93-4733-9a76-42dee21b95d1",
   "metadata": {
    "tags": []
   },
   "outputs": [],
   "source": [
    "X_test_scaled = scaler.transform(X_test)\n",
    "knr.score(X_test_scaled, y_test)"
   ]
  },
  {
   "cell_type": "markdown",
   "id": "a56c0226-0707-44ed-8a09-e32561c2e3ac",
   "metadata": {},
   "source": [
    "## Exercise 1\n",
    "\n",
    "1. Train a `sklearn.svm.SVR` model on the unscaled training data and evaluate on the unscaled test data.\n",
    "2. Train the same model on the scaled data and evaluate on the scaled test data.\n",
    "3. Does scaling the data change the performance of the model?"
   ]
  },
  {
   "cell_type": "code",
   "execution_count": null,
   "id": "d74a4c02-185f-43b1-ae07-a319f0c5693e",
   "metadata": {
    "tags": []
   },
   "outputs": [],
   "source": [
    "from sklearn.svm import SVR\n",
    "import numpy as np"
   ]
  },
  {
   "cell_type": "code",
   "execution_count": null,
   "id": "d1c33b14-8a11-4432-b2e6-a1d13586da35",
   "metadata": {},
   "outputs": [],
   "source": []
  },
  {
   "cell_type": "markdown",
   "id": "2658d69c-fac6-42ad-8a57-d62512e69e7e",
   "metadata": {},
   "source": [
    "**If you are running locally**, you can uncomment the following cell to load the solution into the cell. On **Google Colab**, [see solution here](https://github.com/thomasjpfan/ml-workshop-intro-v2/blob/main/notebooks/solutions/03-ex1-solution.py). "
   ]
  },
  {
   "cell_type": "code",
   "execution_count": null,
   "id": "4dc14f95-0fb1-4eb6-a952-8e454a714f1b",
   "metadata": {
    "tags": []
   },
   "outputs": [],
   "source": [
    "# %load solutions/03-ex1-solution.py"
   ]
  },
  {
   "cell_type": "markdown",
   "id": "8e41a2e9-caf9-42f3-9ea0-adc713b2db99",
   "metadata": {},
   "source": [
    "## Tree based models"
   ]
  },
  {
   "cell_type": "code",
   "execution_count": null,
   "id": "d9bc4d40-1013-4168-9f75-fae198aa8fbb",
   "metadata": {
    "tags": []
   },
   "outputs": [],
   "source": [
    "from sklearn.tree import DecisionTreeRegressor"
   ]
  },
  {
   "cell_type": "code",
   "execution_count": null,
   "id": "3c06eb37-3d01-461b-97d2-f5f6f4b8412e",
   "metadata": {
    "tags": []
   },
   "outputs": [],
   "source": [
    "tree = DecisionTreeRegressor(random_state=0, max_depth=2)\n",
    "tree.fit(X_train, y_train)\n",
    "tree.score(X_test, y_test)"
   ]
  },
  {
   "cell_type": "code",
   "execution_count": null,
   "id": "13b187d4-a3b9-4e78-b8bc-e3516cbfc2fb",
   "metadata": {
    "tags": []
   },
   "outputs": [],
   "source": [
    "tree_scaled = DecisionTreeRegressor(random_state=0, max_depth=2)\n",
    "tree_scaled.fit(X_train_scaled, y_train)\n",
    "tree_scaled.score(X_test_scaled, y_test)"
   ]
  },
  {
   "cell_type": "code",
   "execution_count": null,
   "id": "9336e4ae-4760-4fc9-ad7b-69d607c99db0",
   "metadata": {
    "tags": []
   },
   "outputs": [],
   "source": [
    "from sklearn.tree import plot_tree\n",
    "fig, ax = plt.subplots(figsize=(12, 6))\n",
    "_ = plot_tree(tree, ax=ax, fontsize=20, feature_names=feature_names)"
   ]
  },
  {
   "cell_type": "code",
   "execution_count": null,
   "id": "090aa18d-9894-4aa3-94f1-aeda9a257608",
   "metadata": {
    "tags": []
   },
   "outputs": [],
   "source": [
    "from sklearn.tree import plot_tree\n",
    "fig, ax = plt.subplots(figsize=(12, 6))\n",
    "_ = plot_tree(tree_scaled, ax=ax, fontsize=20, feature_names=feature_names)"
   ]
  }
 ],
 "metadata": {
  "kernelspec": {
   "display_name": "Python 3 (ipykernel)",
   "language": "python",
   "name": "python3"
  },
  "language_info": {
   "codemirror_mode": {
    "name": "ipython",
    "version": 3
   },
   "file_extension": ".py",
   "mimetype": "text/x-python",
   "name": "python",
   "nbconvert_exporter": "python",
   "pygments_lexer": "ipython3",
   "version": "3.10.10"
  }
 },
 "nbformat": 4,
 "nbformat_minor": 5
}
