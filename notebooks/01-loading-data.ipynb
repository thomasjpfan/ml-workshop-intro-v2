{
 "cells": [
  {
   "cell_type": "markdown",
   "id": "70d7f99d-2669-4a2f-8072-e97310ecf345",
   "metadata": {},
   "source": [
    "# Loading data with Scikit-learn \n",
    "\n",
    "In this notebook, we will review how to load data before any machine learning takes place.\n",
    "\n",
    "<a href=\"https://colab.research.google.com/github/thomasjpfan/ml-workshop-intro-v2/blob/main/notebooks/01-loading-data.ipynb\"><img src=\"https://colab.research.google.com/assets/colab-badge.svg\" alt=\"Open in Colab\" title=\"Open and Execute in Google Colaboratory\"></a>"
   ]
  },
  {
   "cell_type": "code",
   "execution_count": null,
   "id": "39f734f0-e85a-493a-b12e-8e4992b27b02",
   "metadata": {
    "tags": []
   },
   "outputs": [],
   "source": [
    "# Install dependencies for google colab\n",
    "import sys\n",
    "IN_COLAB = 'google.colab' in sys.modules\n",
    "if IN_COLAB:\n",
    "    %pip install -r https://raw.githubusercontent.com/thomasjpfan/ml-workshop-intro-v2/main/requirements.txt"
   ]
  },
  {
   "cell_type": "markdown",
   "id": "f148615d",
   "metadata": {},
   "source": []
  },
  {
   "cell_type": "code",
   "execution_count": null,
   "id": "29f3bd21-99f8-4858-a7a9-587aa07d59f0",
   "metadata": {},
   "outputs": [],
   "source": [
    "import sklearn\n",
    "assert sklearn.__version__.startswith(\"1.2\"), \"Please install scikit-learn 1.2\""
   ]
  },
  {
   "cell_type": "markdown",
   "id": "4bc68ba9-ef3a-42a6-a590-570c20eadb58",
   "metadata": {},
   "source": [
    "## Generated datasets"
   ]
  },
  {
   "cell_type": "markdown",
   "id": "32a00d27-0d25-4e9e-aad4-f31ac82b6f28",
   "metadata": {},
   "source": [
    "### Regression"
   ]
  },
  {
   "cell_type": "code",
   "execution_count": null,
   "id": "3e35cfbf-9463-4c57-a473-f18379c05e86",
   "metadata": {},
   "outputs": [],
   "source": [
    "from sklearn.datasets import make_regression\n",
    "\n",
    "X, y = make_regression()"
   ]
  },
  {
   "cell_type": "code",
   "execution_count": null,
   "id": "551c596f-5cb4-4ace-b20c-cbdbaccba222",
   "metadata": {
    "tags": []
   },
   "outputs": [],
   "source": [
    "X"
   ]
  },
  {
   "cell_type": "code",
   "execution_count": null,
   "id": "57b3ebdb-c113-4ff0-9063-2c9263e9431f",
   "metadata": {
    "tags": []
   },
   "outputs": [],
   "source": [
    "y"
   ]
  },
  {
   "cell_type": "markdown",
   "id": "c9a742a1-891b-4ecb-baea-3adb72c4516f",
   "metadata": {},
   "source": [
    "### Classification"
   ]
  },
  {
   "cell_type": "code",
   "execution_count": null,
   "id": "8ce7fc60-34f9-40a8-9b72-20ac325299b5",
   "metadata": {
    "tags": []
   },
   "outputs": [],
   "source": [
    "from sklearn.datasets import make_classification\n",
    "\n",
    "X, y = make_classification()"
   ]
  },
  {
   "cell_type": "code",
   "execution_count": null,
   "id": "b8b3e11c-3e09-42c6-abd3-cfa9ab7472c5",
   "metadata": {
    "tags": []
   },
   "outputs": [],
   "source": [
    "X"
   ]
  },
  {
   "cell_type": "code",
   "execution_count": null,
   "id": "92d42a66-c4ea-4a8b-ba28-9cca347f4bf2",
   "metadata": {
    "tags": []
   },
   "outputs": [],
   "source": [
    "y"
   ]
  },
  {
   "cell_type": "markdown",
   "id": "c77abcaf-4fe3-44f1-ade8-b0d6101dbbe8",
   "metadata": {},
   "source": [
    "### Sample Datasets"
   ]
  },
  {
   "cell_type": "code",
   "execution_count": null,
   "id": "24fb2c10-d08e-49a7-9b70-5ec1f3d01cec",
   "metadata": {
    "tags": []
   },
   "outputs": [],
   "source": [
    "from sklearn.datasets import fetch_openml"
   ]
  },
  {
   "cell_type": "code",
   "execution_count": null,
   "id": "802833a5-81b7-444d-8d74-ad9bb3252a66",
   "metadata": {
    "tags": []
   },
   "outputs": [],
   "source": [
    "penguins = fetch_openml(data_id=42585, as_frame=True, parser=\"pandas\")"
   ]
  },
  {
   "cell_type": "code",
   "execution_count": null,
   "id": "e99d4d49-048f-4613-92eb-5ee46d826041",
   "metadata": {
    "tags": []
   },
   "outputs": [],
   "source": [
    "print(penguins.DESCR)"
   ]
  },
  {
   "cell_type": "code",
   "execution_count": null,
   "id": "a222bd90-a993-4a48-ad06-578d0272eeb0",
   "metadata": {
    "tags": []
   },
   "outputs": [],
   "source": [
    "X = penguins.data\n",
    "y = penguins.target"
   ]
  },
  {
   "cell_type": "code",
   "execution_count": null,
   "id": "cccb110d-9de9-4633-9e11-c58df055030e",
   "metadata": {
    "tags": []
   },
   "outputs": [],
   "source": [
    "X"
   ]
  },
  {
   "cell_type": "code",
   "execution_count": null,
   "id": "0c8f0e1a-d41e-4cf1-8cdd-d9c589c1fa5c",
   "metadata": {
    "tags": []
   },
   "outputs": [],
   "source": [
    "import matplotlib.pyplot as plt\n",
    "plt.scatter(X['culmen_length_mm'], X['culmen_depth_mm'], c=y.cat.codes)"
   ]
  },
  {
   "cell_type": "code",
   "execution_count": null,
   "id": "4cf5fb51-89a2-404c-99bc-3563e07f81dd",
   "metadata": {
    "tags": []
   },
   "outputs": [],
   "source": [
    "penguins_df = penguins.frame"
   ]
  },
  {
   "cell_type": "code",
   "execution_count": null,
   "id": "e6714b97-f6f8-47b7-9a94-545ee117de62",
   "metadata": {
    "tags": []
   },
   "outputs": [],
   "source": [
    "penguins_df"
   ]
  },
  {
   "cell_type": "code",
   "execution_count": null,
   "id": "0ef5ea96-7d47-43e8-b957-76ad34240e70",
   "metadata": {
    "tags": []
   },
   "outputs": [],
   "source": [
    "import seaborn as sns\n",
    "sns.set_theme(font_scale=1.3)"
   ]
  },
  {
   "cell_type": "code",
   "execution_count": null,
   "id": "f1a452a2-b341-4771-bb97-aca442693972",
   "metadata": {
    "tags": []
   },
   "outputs": [],
   "source": [
    "sns.relplot(data=penguins_df, x='culmen_length_mm', y='culmen_depth_mm',\n",
    "            hue='species', height=6);"
   ]
  },
  {
   "cell_type": "code",
   "execution_count": null,
   "id": "1b96af0a-0447-4712-b826-418de28618c1",
   "metadata": {
    "tags": []
   },
   "outputs": [],
   "source": [
    "sns.displot(data=penguins_df, x=\"culmen_length_mm\", hue=\"species\", kind=\"kde\", aspect=2);"
   ]
  },
  {
   "cell_type": "code",
   "execution_count": null,
   "id": "c83c6f93-9272-4861-ac6a-658cb9d4ee29",
   "metadata": {},
   "outputs": [],
   "source": [
    "sns.jointplot(data=penguins_df, x=\"culmen_length_mm\", y=\"culmen_depth_mm\", hue=\"species\", height=8);"
   ]
  },
  {
   "cell_type": "markdown",
   "id": "51050387-b892-4cc3-ad55-33f82600f157",
   "metadata": {},
   "source": [
    "## Exercise 1\n",
    "\n",
    "1. Load the wine dataset from the `sklearn.datasets` module using the `load_wine` function and with `as_frame=True`.\n",
    "2. Print the description of the dataset.\n",
    "3. What is the number of samples and features in this dataset?\n",
    "4. Is this a classifiation of a regression problem? Hint: The target column is called `target`.\n",
    "5. Use `sns.jointplot` to explore the relationship between the `proline` and `flavanoids` features. (Be sure to set `hue` to the target name)"
   ]
  },
  {
   "cell_type": "code",
   "execution_count": null,
   "id": "76ad467e-dd37-4764-b0b3-727f24316571",
   "metadata": {
    "tags": []
   },
   "outputs": [],
   "source": [
    "from sklearn.datasets import load_wine"
   ]
  },
  {
   "cell_type": "code",
   "execution_count": null,
   "id": "08eb9c61-eb6a-4a62-aee0-e9255e3e2410",
   "metadata": {},
   "outputs": [],
   "source": []
  },
  {
   "cell_type": "markdown",
   "id": "7314ee54-1405-4eb2-ae54-3b184a4d4bda",
   "metadata": {},
   "source": [
    "**If you are running locally**, you can uncomment the following cell to load the solution into the cell. On **Google Colab**, [see solution here](https://github.com/thomasjpfan/ml-workshop-intro-v2/blob/main/notebooks/solutions/01-ex1-solution.py). "
   ]
  },
  {
   "cell_type": "code",
   "execution_count": null,
   "id": "7bbcf240-747c-44d2-b033-a75c463ac05a",
   "metadata": {},
   "outputs": [],
   "source": [
    "# %load solutions/01-ex1-solution.py"
   ]
  }
 ],
 "metadata": {
  "kernelspec": {
   "display_name": "Python 3 (ipykernel)",
   "language": "python",
   "name": "python3"
  },
  "language_info": {
   "codemirror_mode": {
    "name": "ipython",
    "version": 3
   },
   "file_extension": ".py",
   "mimetype": "text/x-python",
   "name": "python",
   "nbconvert_exporter": "python",
   "pygments_lexer": "ipython3",
   "version": "3.10.9"
  }
 },
 "nbformat": 4,
 "nbformat_minor": 5
}
