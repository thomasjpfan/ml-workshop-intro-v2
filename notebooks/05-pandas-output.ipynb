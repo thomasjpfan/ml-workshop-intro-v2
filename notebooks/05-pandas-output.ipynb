{
 "cells": [
  {
   "cell_type": "markdown",
   "id": "02a96435-6497-4683-832b-7faf0e9f4ee2",
   "metadata": {},
   "source": [
    "# Pandas output\n",
    "\n",
    "In this notebook, we will learn about pandas output in scikit-learn.\n",
    "\n",
    "<a href=\"https://colab.research.google.com/github/thomasjpfan/ml-workshop-intro-v2/blob/main/notebooks/05-pandas-output.ipynb\"><img src=\"https://colab.research.google.com/assets/colab-badge.svg\" alt=\"Open in Colab\" title=\"Open and Execute in Google Colaboratory\"></a>"
   ]
  },
  {
   "cell_type": "code",
   "execution_count": null,
   "id": "732439ea-d8e2-4f7d-89aa-cbe6d8231740",
   "metadata": {
    "tags": []
   },
   "outputs": [],
   "source": [
    "# Install dependencies for google colab\n",
    "import sys\n",
    "IN_COLAB = 'google.colab' in sys.modules\n",
    "if IN_COLAB:\n",
    "    %pip install -r https://raw.githubusercontent.com/thomasjpfan/ml-workshop-intro-v2/main/requirements.txt"
   ]
  },
  {
   "cell_type": "code",
   "execution_count": null,
   "id": "59e6a1f9-44b4-4b37-924e-1e650b0f6793",
   "metadata": {
    "tags": []
   },
   "outputs": [],
   "source": [
    "import sklearn\n",
    "assert sklearn.__version__.startswith(\"1.2\"), \"Please install scikit-learn 1.2\""
   ]
  },
  {
   "cell_type": "markdown",
   "id": "db1efd07-9174-4d7b-b9c5-5d13a92ed4b5",
   "metadata": {},
   "source": [
    "## Load wine data set"
   ]
  },
  {
   "cell_type": "code",
   "execution_count": null,
   "id": "320e55d9-1aec-44f3-b2c7-be2833dd7452",
   "metadata": {
    "tags": []
   },
   "outputs": [],
   "source": [
    "from sklearn.datasets import load_wine"
   ]
  },
  {
   "cell_type": "code",
   "execution_count": null,
   "id": "f404a3fd-a4bb-4942-b11c-f1db024b3642",
   "metadata": {
    "tags": []
   },
   "outputs": [],
   "source": [
    "wine = load_wine(as_frame=True)\n",
    "X, y = wine.data, wine.target"
   ]
  },
  {
   "cell_type": "code",
   "execution_count": null,
   "id": "b702e443-3d2f-4f03-8472-402018256fb5",
   "metadata": {
    "tags": []
   },
   "outputs": [],
   "source": [
    "from sklearn.model_selection import train_test_split\n",
    "\n",
    "X_train, X_test, y_train, y_test = train_test_split(\n",
    "    X, y, stratify=y, random_state=0)"
   ]
  },
  {
   "cell_type": "code",
   "execution_count": null,
   "id": "a3003f64-680c-4210-a0f2-764f5c2fa052",
   "metadata": {
    "tags": []
   },
   "outputs": [],
   "source": [
    "X_train"
   ]
  },
  {
   "cell_type": "markdown",
   "id": "0339fabd-615c-4ce0-80cb-1b412bf6cb4c",
   "metadata": {},
   "source": [
    "## Default Scaler"
   ]
  },
  {
   "cell_type": "code",
   "execution_count": null,
   "id": "7f9de458-bf1b-42af-9ab0-d7aedc1143f1",
   "metadata": {
    "tags": []
   },
   "outputs": [],
   "source": [
    "from sklearn.preprocessing import StandardScaler"
   ]
  },
  {
   "cell_type": "code",
   "execution_count": null,
   "id": "cad101ef-951a-4143-be8e-ff928cd8a747",
   "metadata": {
    "tags": []
   },
   "outputs": [],
   "source": [
    "scaler = StandardScaler()"
   ]
  },
  {
   "cell_type": "code",
   "execution_count": null,
   "id": "dbf2e51e-7a43-4d3b-a836-aa5360982ca9",
   "metadata": {
    "tags": []
   },
   "outputs": [],
   "source": [
    "X_scaled = scaler.fit_transform(X_train)"
   ]
  },
  {
   "cell_type": "code",
   "execution_count": null,
   "id": "8b3de2e5-c599-4dae-b80d-b5b1d69162f6",
   "metadata": {
    "tags": []
   },
   "outputs": [],
   "source": [
    "X_scaled[:5]"
   ]
  },
  {
   "cell_type": "code",
   "execution_count": null,
   "id": "7588eba8-b1cd-4252-af84-34a98a14d197",
   "metadata": {
    "tags": []
   },
   "outputs": [],
   "source": [
    "X_train.shape"
   ]
  },
  {
   "cell_type": "code",
   "execution_count": null,
   "id": "58b9d1a9-e0c6-44c2-8742-583ba0225d01",
   "metadata": {
    "tags": []
   },
   "outputs": [],
   "source": [
    "X_scaled.shape"
   ]
  },
  {
   "cell_type": "markdown",
   "id": "8f00f58d-aee9-4c19-940b-a6f62d16c60a",
   "metadata": {},
   "source": [
    "### Scalar with pandas out!"
   ]
  },
  {
   "cell_type": "code",
   "execution_count": null,
   "id": "22d8a0b3-06ec-4efb-b05c-854a6493e88c",
   "metadata": {
    "tags": []
   },
   "outputs": [],
   "source": [
    "scaler = StandardScaler()\n",
    "scaler.set_output(transform=\"pandas\")"
   ]
  },
  {
   "cell_type": "code",
   "execution_count": null,
   "id": "6fcb059b-91ad-4c39-b731-915765c24c70",
   "metadata": {
    "tags": []
   },
   "outputs": [],
   "source": [
    "X_scaled = scaler.fit_transform(X_train)"
   ]
  },
  {
   "cell_type": "code",
   "execution_count": null,
   "id": "255ae8d7-deca-467e-a91a-a26160d2493f",
   "metadata": {
    "tags": []
   },
   "outputs": [],
   "source": [
    "X_scaled"
   ]
  },
  {
   "cell_type": "markdown",
   "id": "672e3874-5177-49b3-8566-9739ad3948a0",
   "metadata": {},
   "source": [
    "## In a pipeline (Default)"
   ]
  },
  {
   "cell_type": "code",
   "execution_count": null,
   "id": "d4a77e67-b6f6-4ad8-94a0-9d1cbaf72014",
   "metadata": {
    "tags": []
   },
   "outputs": [],
   "source": [
    "from sklearn.feature_selection import SelectPercentile\n",
    "from sklearn.pipeline import make_pipeline"
   ]
  },
  {
   "cell_type": "code",
   "execution_count": null,
   "id": "de73853a-a6cc-4f6e-ac30-58eb926f8c2e",
   "metadata": {
    "tags": []
   },
   "outputs": [],
   "source": [
    "pipe = make_pipeline(\n",
    "    StandardScaler(),\n",
    "    SelectPercentile(percentile=50),\n",
    ")"
   ]
  },
  {
   "cell_type": "code",
   "execution_count": null,
   "id": "dfe5f625-5eac-455a-94d1-f21fa3eb2683",
   "metadata": {
    "tags": []
   },
   "outputs": [],
   "source": [
    "X_transformed = pipe.fit_transform(X_train, y_train)"
   ]
  },
  {
   "cell_type": "code",
   "execution_count": null,
   "id": "d23d9a95-c07f-476d-b90b-5ba6502d5901",
   "metadata": {
    "tags": []
   },
   "outputs": [],
   "source": [
    "X_transformed[:5]"
   ]
  },
  {
   "cell_type": "markdown",
   "id": "5a0a1385-cd4d-4a19-bc22-7ac4bd608fdc",
   "metadata": {},
   "source": [
    "### Pipeline with pandas"
   ]
  },
  {
   "cell_type": "code",
   "execution_count": null,
   "id": "1d742abc-b945-4d30-b4ac-6c09d02e83f8",
   "metadata": {
    "tags": []
   },
   "outputs": [],
   "source": [
    "pipe.set_output(transform=\"pandas\")"
   ]
  },
  {
   "cell_type": "code",
   "execution_count": null,
   "id": "9a8818c4-ac36-4fff-b929-e67c0118bab2",
   "metadata": {
    "tags": []
   },
   "outputs": [],
   "source": [
    "X_transformed = pipe.fit_transform(X_train, y_train)"
   ]
  },
  {
   "cell_type": "code",
   "execution_count": null,
   "id": "fe420e1b-df53-4367-a557-e137ccd7e7d8",
   "metadata": {
    "tags": []
   },
   "outputs": [],
   "source": [
    "X_transformed"
   ]
  },
  {
   "cell_type": "markdown",
   "id": "254d48ab-b66e-4369-b569-3775aaccdc45",
   "metadata": {},
   "source": [
    "## With Classifier"
   ]
  },
  {
   "cell_type": "code",
   "execution_count": null,
   "id": "a9c64737-63b5-4ae2-8a92-99975261c47d",
   "metadata": {
    "tags": []
   },
   "outputs": [],
   "source": [
    "from sklearn.ensemble import RandomForestClassifier"
   ]
  },
  {
   "cell_type": "code",
   "execution_count": null,
   "id": "4f7696d7-449a-4085-b334-c87082c28f26",
   "metadata": {
    "tags": []
   },
   "outputs": [],
   "source": [
    "pipe = make_pipeline(\n",
    "    SelectPercentile(percentile=50),\n",
    "    RandomForestClassifier()\n",
    ")\n",
    "pipe.set_output(transform=\"pandas\")"
   ]
  },
  {
   "cell_type": "code",
   "execution_count": null,
   "id": "e50ef445-4f54-42da-a7da-bc6a27dd8af3",
   "metadata": {
    "tags": []
   },
   "outputs": [],
   "source": [
    "pipe.fit(X_train, y_train);"
   ]
  },
  {
   "cell_type": "code",
   "execution_count": null,
   "id": "989c0be7-7a75-421d-9322-a872db6ed024",
   "metadata": {},
   "outputs": [],
   "source": [
    "pipe.score(X_test, y_test)"
   ]
  },
  {
   "cell_type": "code",
   "execution_count": null,
   "id": "04b81628-7d25-48d0-9e6e-0321e94e649d",
   "metadata": {
    "tags": []
   },
   "outputs": [],
   "source": [
    "pipe[-1]"
   ]
  },
  {
   "cell_type": "markdown",
   "id": "aca55a01-dded-462a-8307-44bea89b1f4e",
   "metadata": {},
   "source": [
    "### Get importances and the corresponding features"
   ]
  },
  {
   "cell_type": "code",
   "execution_count": null,
   "id": "c4b1a89e-850b-4e20-9664-e02c37e7ec36",
   "metadata": {
    "tags": []
   },
   "outputs": [],
   "source": [
    "importances = pipe[-1].feature_importances_\n",
    "importances"
   ]
  },
  {
   "cell_type": "code",
   "execution_count": null,
   "id": "9cf3f907-43cb-4bcb-85e3-56d6f30fc2cd",
   "metadata": {
    "tags": []
   },
   "outputs": [],
   "source": [
    "feature_names = pipe[-1].feature_names_in_\n",
    "feature_names"
   ]
  },
  {
   "cell_type": "code",
   "execution_count": null,
   "id": "a52fc066-71b5-4c1d-a821-55f0b9221d1d",
   "metadata": {
    "tags": []
   },
   "outputs": [],
   "source": [
    "import pandas as pd\n",
    "importances_series = pd.Series(importances, index=feature_names).sort_values()\n",
    "importances_series.plot.barh();"
   ]
  },
  {
   "cell_type": "markdown",
   "id": "4faf66d2-54a6-4726-8ae9-1a5f9f62c222",
   "metadata": {},
   "source": [
    "## Exercise 1\n",
    "\n",
    "1. "
   ]
  },
  {
   "cell_type": "code",
   "execution_count": null,
   "id": "584e744d-d2b9-4ffb-aa2e-caeb88bdc613",
   "metadata": {
    "tags": []
   },
   "outputs": [],
   "source": [
    "from sklearn.datasets import fetch_openml\n",
    "from sklearn.linear_model import LogisticRegression"
   ]
  },
  {
   "cell_type": "code",
   "execution_count": null,
   "id": "b1669d94-823e-429d-ad38-bff0f00c8e1e",
   "metadata": {
    "tags": []
   },
   "outputs": [],
   "source": [
    "steel = fetch_openml(\"pc3\", parser=\"pandas\", as_frame=True, version=1)"
   ]
  },
  {
   "cell_type": "code",
   "execution_count": null,
   "id": "c789b88d-0f1d-4bc4-ab98-188eda49aaed",
   "metadata": {
    "tags": []
   },
   "outputs": [],
   "source": [
    "X, y = steel.data, steel.target"
   ]
  },
  {
   "cell_type": "code",
   "execution_count": null,
   "id": "8e4dbbd5-4b25-437b-9545-2f9280f6d08c",
   "metadata": {
    "tags": []
   },
   "outputs": [],
   "source": [
    "X"
   ]
  },
  {
   "cell_type": "code",
   "execution_count": null,
   "id": "33972b51-23d1-455d-a904-88cae3d416cc",
   "metadata": {
    "tags": []
   },
   "outputs": [],
   "source": [
    "X_train, X_test, y_train, y_test = train_test_split(\n",
    "    X, y, stratify=y, random_state=0)"
   ]
  },
  {
   "cell_type": "code",
   "execution_count": null,
   "id": "f462d703-98eb-4b8d-9fae-3f9aa32fce70",
   "metadata": {
    "tags": []
   },
   "outputs": [],
   "source": [
    "log_reg = make_pipeline(\n",
    "    StandardScaler(),\n",
    "    LogisticRegression(solver=\"liblinear\", penalty=\"l1\")\n",
    ")\n",
    "log_reg.set_output(transform=\"pandas\")"
   ]
  },
  {
   "cell_type": "code",
   "execution_count": null,
   "id": "1eb98b06-e8a8-440f-808c-5add70bdbdef",
   "metadata": {
    "tags": []
   },
   "outputs": [],
   "source": [
    "log_reg.fit(X_train, y_train);"
   ]
  },
  {
   "cell_type": "code",
   "execution_count": null,
   "id": "9b1a682d-166a-4907-a198-078e3e7d452c",
   "metadata": {
    "tags": []
   },
   "outputs": [],
   "source": [
    "log_reg.score(X_test, y_test)"
   ]
  },
  {
   "cell_type": "code",
   "execution_count": null,
   "id": "b5405d73-b1ac-4e4c-a60d-472d6544b616",
   "metadata": {
    "tags": []
   },
   "outputs": [],
   "source": [
    "coefs = log_reg[-1].coef_.flatten()\n",
    "feature_names_in = log_reg[-1].feature_names_in_"
   ]
  },
  {
   "cell_type": "code",
   "execution_count": null,
   "id": "c4037f16-2dd2-4af5-ad65-0620454184c4",
   "metadata": {
    "tags": []
   },
   "outputs": [],
   "source": [
    "coefs_series = pd.Series(coefs, index=feature_names_in).sort_values()"
   ]
  },
  {
   "cell_type": "code",
   "execution_count": null,
   "id": "7d94dda8-cbca-497d-bed6-fb0da4e9f1ac",
   "metadata": {
    "tags": []
   },
   "outputs": [],
   "source": [
    "coefs_series.plot.barh(figsize=(12, 8));"
   ]
  }
 ],
 "metadata": {
  "kernelspec": {
   "display_name": "Python 3 (ipykernel)",
   "language": "python",
   "name": "python3"
  },
  "language_info": {
   "codemirror_mode": {
    "name": "ipython",
    "version": 3
   },
   "file_extension": ".py",
   "mimetype": "text/x-python",
   "name": "python",
   "nbconvert_exporter": "python",
   "pygments_lexer": "ipython3",
   "version": "3.10.9"
  }
 },
 "nbformat": 4,
 "nbformat_minor": 5
}
